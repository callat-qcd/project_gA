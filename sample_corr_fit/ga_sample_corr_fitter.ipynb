{
 "cells": [
  {
   "cell_type": "markdown",
   "metadata": {},
   "source": [
    "<figure style=\"float:right\">\n",
    "<a href=\"http://c51.lbl.gov/~walkloud/callat/\">\n",
    "    <img\n",
    "    src=\"callat_logo.png\"\n",
    "    width=\"150\"\n",
    "    alt=\"CalLat logo\"\n",
    "    /img>\n",
    "</a>\n",
    "</figure>\n",
    "\n",
    "# Jupyter notebook for CalLat gA project:\n",
    "\n",
    "# sample correlation function fitter "
   ]
  },
  {
   "cell_type": "markdown",
   "metadata": {},
   "source": [
    "This notebook"
   ]
  },
  {
   "cell_type": "markdown",
   "metadata": {},
   "source": [
    "## Import libraries"
   ]
  },
  {
   "cell_type": "code",
   "execution_count": 1,
   "metadata": {
    "collapsed": true
   },
   "outputs": [],
   "source": [
    "%load_ext autoreload"
   ]
  },
  {
   "cell_type": "code",
   "execution_count": 2,
   "metadata": {
    "collapsed": false,
    "scrolled": true
   },
   "outputs": [
    {
     "name": "stdout",
     "output_type": "stream",
     "text": [
      "python  version: 2.7.14 (default, Jan  6 2018, 12:15:00) \n",
      "[GCC 4.2.1 Compatible Apple LLVM 9.0.0 (clang-900.0.39.2)]\n",
      "numpy   version: 1.14.2\n",
      "scipy   version: 1.0.1\n",
      "iminuit version: 1.1.1\n"
     ]
    }
   ],
   "source": [
    "from __future__ import print_function\n",
    "%autoreload\n",
    "%matplotlib inline\n",
    "import sys\n",
    "import matplotlib.pyplot as plt\n",
    "import tables as h5\n",
    "import scipy as sp\n",
    "import numpy as np\n",
    "np.set_printoptions(linewidth=180)\n",
    "import fit_functions as fit_fh\n",
    "import iminuit as mn\n",
    "import random\n",
    "import tqdm\n",
    "import theano as th\n",
    "import theano.tensor as Tn\n",
    "import fh_fit as fh\n",
    "import fit_params as fitp\n",
    "print(\"python  version:\", sys.version)\n",
    "print(\"numpy   version:\", np.__version__)\n",
    "print(\"scipy   version:\", sp.__version__)\n",
    "print(\"iminuit version:\", mn.__version__)"
   ]
  },
  {
   "cell_type": "markdown",
   "metadata": {},
   "source": [
    "**NOTE:** at the time of writing this notebook, iminuit v1.2 raises complaints about the positive definiteness of the chisq function.  v1.1.1 does not raise these warnings.  v1.1.1 results have been check against independent analysis.  The v1.2 results seem to be consistent with those from v1.1.1"
   ]
  },
  {
   "cell_type": "markdown",
   "metadata": {},
   "source": [
    "## Override default analysis parameters"
   ]
  },
  {
   "cell_type": "code",
   "execution_count": 3,
   "metadata": {
    "collapsed": false
   },
   "outputs": [],
   "source": [
    "ens = 'a09m310'\n",
    "params = fitp.params\n",
    "override = False\n",
    "if override:# These parasm are for the a09m310 ensemble\n",
    "    params['tau'] = 1\n",
    "    params['bs'] = False\n",
    "    params[ens]['seed'] = ens\n",
    "    params[ens]['Nbs']  = 5000\n",
    "    params[ens]['t_min_max'] = {\n",
    "        'proton':[9,16],\n",
    "        'gA'    :[3,12],\n",
    "        'gV'    :[7,17]\n",
    "    }\n",
    "    params[ens]['plt_range'] = {\n",
    "        'proton':[7,18,0.47,0.55],\n",
    "        'gA'    :[0,15,1.1,1.5],\n",
    "        'gV'    :[5,20,1.015,1.035]\n",
    "    }\n",
    "    params[ens]['fit_ini'] = {\n",
    "        'E_0'   :.49241,\n",
    "        'dE_10' :.408,\n",
    "        'zs_0'  :2.2e-5,\n",
    "        'zp_0'  :2.3e-3,\n",
    "        'zs_1'  :1.3e-5,\n",
    "        'zp_1'  :3.1e-3,\n",
    "        'gA_00' :1.27,\n",
    "        'gV_00' :1.02,\n",
    "        'gA_11' :1.55,\n",
    "        'gA_10' :-.01,\n",
    "        'dAss_0':-4.7e-10,\n",
    "        'dAps_0':-6.2e-8,\n",
    "        'dAss_1':-4.2e-10,\n",
    "        'dAps_1':1.5e-8,\n",
    "        'gV_11' :1.06,\n",
    "        'gV_10' :-0.066,\n",
    "        'dVss_0':3.9e-10,\n",
    "        'dVps_0':3.1e-8,\n",
    "        'dVss_1':2.6e-11,\n",
    "        'dVps_1':-4.1e-10,\n",
    "    }"
   ]
  },
  {
   "cell_type": "code",
   "execution_count": 4,
   "metadata": {
    "collapsed": false
   },
   "outputs": [
    {
     "data": {
      "text/html": [
       "<hr>"
      ]
     },
     "metadata": {},
     "output_type": "display_data"
    },
    {
     "data": {
      "text/html": [
       "\n",
       "        <table>\n",
       "            <tr>\n",
       "                <td title=\"Minimum value of function\">FCN = 39.8200279707</td>\n",
       "                <td title=\"Total number of call to FCN so far\">TOTAL NCALL = 1809</td>\n",
       "                <td title=\"Number of call in last migrad\">NCALLS = 1809</td>\n",
       "            </tr>\n",
       "            <tr>\n",
       "                <td title=\"Estimated distance to minimum\">EDM = 5.43719425675e-06</td>\n",
       "                <td title=\"Maximum EDM definition of convergence\">GOAL EDM = 1e-05</td>\n",
       "                <td title=\"Error def. Amount of increase in FCN to be defined as 1 standard deviation\">\n",
       "                UP = 1.0</td>\n",
       "            </tr>\n",
       "        </table>\n",
       "        \n",
       "        <table>\n",
       "            <tr>\n",
       "                <td align=\"center\" title=\"Validity of the migrad call\">Valid</td>\n",
       "                <td align=\"center\" title=\"Validity of parameters\">Valid Param</td>\n",
       "                <td align=\"center\" title=\"Is Covariance matrix accurate?\">Accurate Covar</td>\n",
       "                <td align=\"center\" title=\"Positive definiteness of covariance matrix\">PosDef</td>\n",
       "                <td align=\"center\" title=\"Was covariance matrix made posdef by adding diagonal element\">Made PosDef</td>\n",
       "            </tr>\n",
       "            <tr>\n",
       "                <td align=\"center\" style=\"background-color:#92CCA6\">True</td>\n",
       "                <td align=\"center\" style=\"background-color:#92CCA6\">True</td>\n",
       "                <td align=\"center\" style=\"background-color:#92CCA6\">True</td>\n",
       "                <td align=\"center\" style=\"background-color:#92CCA6\">True</td>\n",
       "                <td align=\"center\" style=\"background-color:#92CCA6\">False</td>\n",
       "            </tr>\n",
       "            <tr>\n",
       "                <td align=\"center\" title=\"Was last hesse call fail?\">Hesse Fail</td>\n",
       "                <td align=\"center\" title=\"Validity of covariance\">HasCov</td>\n",
       "                <td align=\"center\" title=\"Is EDM above goal EDM?\">Above EDM</td>\n",
       "                <td align=\"center\"></td>\n",
       "                <td align=\"center\" title=\"Did last migrad call reach max call limit?\">Reach calllim</td>\n",
       "            </tr>\n",
       "            <tr>\n",
       "                <td align=\"center\" style=\"background-color:#92CCA6\">False</td>\n",
       "                <td align=\"center\" style=\"background-color:#92CCA6\">True</td>\n",
       "                <td align=\"center\" style=\"background-color:#92CCA6\">False</td>\n",
       "                <td align=\"center\"></td>\n",
       "                <td align=\"center\" style=\"background-color:#92CCA6\">False</td>\n",
       "            </tr>\n",
       "        </table>\n",
       "        "
      ]
     },
     "metadata": {},
     "output_type": "display_data"
    },
    {
     "data": {
      "text/html": [
       "\n",
       "        <table>\n",
       "            <tr>\n",
       "                <td><a href=\"#\" onclick=\"$('#TKCEZNCfKG').toggle()\">+</a></td>\n",
       "                <td title=\"Variable name\">Name</td>\n",
       "                <td title=\"Value of parameter\">Value</td>\n",
       "                <td title=\"Parabolic error\">Parab Error</td>\n",
       "                <td title=\"Minos lower error\">Minos Error-</td>\n",
       "                <td title=\"Minos upper error\">Minos Error+</td>\n",
       "                <td title=\"Lower limit of the parameter\">Limit-</td>\n",
       "                <td title=\"Upper limit of the parameter\">Limit+</td>\n",
       "                <td title=\"Is the parameter fixed in the fit\">FIXED</td>\n",
       "            </tr>\n",
       "        \n",
       "            <tr>\n",
       "                <td>1</td>\n",
       "                <td>E_0</td>\n",
       "                <td>4.924613e-01</td>\n",
       "                <td>1.260188e-03</td>\n",
       "                <td>0.000000e+00</td>\n",
       "                <td>0.000000e+00</td>\n",
       "                <td></td>\n",
       "                <td></td>\n",
       "                <td></td>\n",
       "            </tr>\n",
       "            \n",
       "            <tr>\n",
       "                <td>2</td>\n",
       "                <td>dE_10</td>\n",
       "                <td>4.084034e-01</td>\n",
       "                <td>2.154711e-02</td>\n",
       "                <td>0.000000e+00</td>\n",
       "                <td>0.000000e+00</td>\n",
       "                <td>0.0</td>\n",
       "                <td>10.0</td>\n",
       "                <td></td>\n",
       "            </tr>\n",
       "            \n",
       "            <tr>\n",
       "                <td>3</td>\n",
       "                <td>zs_0</td>\n",
       "                <td>2.167024e-05</td>\n",
       "                <td>1.464463e-07</td>\n",
       "                <td>0.000000e+00</td>\n",
       "                <td>0.000000e+00</td>\n",
       "                <td>0.0</td>\n",
       "                <td>1.0</td>\n",
       "                <td></td>\n",
       "            </tr>\n",
       "            \n",
       "            <tr>\n",
       "                <td>4</td>\n",
       "                <td>zp_0</td>\n",
       "                <td>2.290932e-03</td>\n",
       "                <td>1.781680e-05</td>\n",
       "                <td>0.000000e+00</td>\n",
       "                <td>0.000000e+00</td>\n",
       "                <td></td>\n",
       "                <td></td>\n",
       "                <td></td>\n",
       "            </tr>\n",
       "            \n",
       "            <tr>\n",
       "                <td>5</td>\n",
       "                <td>zs_1</td>\n",
       "                <td>1.261485e-05</td>\n",
       "                <td>2.058950e-06</td>\n",
       "                <td>0.000000e+00</td>\n",
       "                <td>0.000000e+00</td>\n",
       "                <td>0.0</td>\n",
       "                <td>1.0</td>\n",
       "                <td></td>\n",
       "            </tr>\n",
       "            \n",
       "            <tr>\n",
       "                <td>6</td>\n",
       "                <td>zp_1</td>\n",
       "                <td>3.042577e-03</td>\n",
       "                <td>4.935477e-04</td>\n",
       "                <td>0.000000e+00</td>\n",
       "                <td>0.000000e+00</td>\n",
       "                <td></td>\n",
       "                <td></td>\n",
       "                <td></td>\n",
       "            </tr>\n",
       "            \n",
       "            <tr>\n",
       "                <td>7</td>\n",
       "                <td>gA_00</td>\n",
       "                <td>1.267396e+00</td>\n",
       "                <td>7.757001e-03</td>\n",
       "                <td>0.000000e+00</td>\n",
       "                <td>0.000000e+00</td>\n",
       "                <td></td>\n",
       "                <td></td>\n",
       "                <td></td>\n",
       "            </tr>\n",
       "            \n",
       "            <tr>\n",
       "                <td>8</td>\n",
       "                <td>gA_11</td>\n",
       "                <td>1.563444e+00</td>\n",
       "                <td>8.213050e-02</td>\n",
       "                <td>0.000000e+00</td>\n",
       "                <td>0.000000e+00</td>\n",
       "                <td>-20.0</td>\n",
       "                <td>20.0</td>\n",
       "                <td></td>\n",
       "            </tr>\n",
       "            \n",
       "            <tr>\n",
       "                <td>9</td>\n",
       "                <td>gA_10</td>\n",
       "                <td>-1.191858e-02</td>\n",
       "                <td>2.701624e-02</td>\n",
       "                <td>0.000000e+00</td>\n",
       "                <td>0.000000e+00</td>\n",
       "                <td>-10.0</td>\n",
       "                <td>10.0</td>\n",
       "                <td></td>\n",
       "            </tr>\n",
       "            \n",
       "            <tr>\n",
       "                <td>10</td>\n",
       "                <td>gV_00</td>\n",
       "                <td>1.023845e+00</td>\n",
       "                <td>6.161616e-04</td>\n",
       "                <td>0.000000e+00</td>\n",
       "                <td>0.000000e+00</td>\n",
       "                <td></td>\n",
       "                <td></td>\n",
       "                <td></td>\n",
       "            </tr>\n",
       "            \n",
       "            <tr>\n",
       "                <td>11</td>\n",
       "                <td>gV_11</td>\n",
       "                <td>1.058439e+00</td>\n",
       "                <td>1.810521e-02</td>\n",
       "                <td>0.000000e+00</td>\n",
       "                <td>0.000000e+00</td>\n",
       "                <td>-20.0</td>\n",
       "                <td>20.0</td>\n",
       "                <td></td>\n",
       "            </tr>\n",
       "            \n",
       "            <tr>\n",
       "                <td>12</td>\n",
       "                <td>gV_10</td>\n",
       "                <td>-6.529412e-02</td>\n",
       "                <td>7.552597e-03</td>\n",
       "                <td>0.000000e+00</td>\n",
       "                <td>0.000000e+00</td>\n",
       "                <td>-10.0</td>\n",
       "                <td>10.0</td>\n",
       "                <td></td>\n",
       "            </tr>\n",
       "            \n",
       "            <tr>\n",
       "                <td>13</td>\n",
       "                <td>dAss_0</td>\n",
       "                <td>-4.777922e-10</td>\n",
       "                <td>2.737083e-10</td>\n",
       "                <td>0.000000e+00</td>\n",
       "                <td>0.000000e+00</td>\n",
       "                <td></td>\n",
       "                <td></td>\n",
       "                <td></td>\n",
       "            </tr>\n",
       "            \n",
       "            <tr>\n",
       "                <td>14</td>\n",
       "                <td>dAps_0</td>\n",
       "                <td>-6.248498e-08</td>\n",
       "                <td>1.314935e-08</td>\n",
       "                <td>0.000000e+00</td>\n",
       "                <td>0.000000e+00</td>\n",
       "                <td></td>\n",
       "                <td></td>\n",
       "                <td></td>\n",
       "            </tr>\n",
       "            \n",
       "            <tr>\n",
       "                <td>15</td>\n",
       "                <td>dAss_1</td>\n",
       "                <td>-4.132040e-10</td>\n",
       "                <td>9.254224e-11</td>\n",
       "                <td>0.000000e+00</td>\n",
       "                <td>0.000000e+00</td>\n",
       "                <td></td>\n",
       "                <td></td>\n",
       "                <td></td>\n",
       "            </tr>\n",
       "            \n",
       "            <tr>\n",
       "                <td>16</td>\n",
       "                <td>dAps_1</td>\n",
       "                <td>1.534729e-08</td>\n",
       "                <td>1.016769e-08</td>\n",
       "                <td>0.000000e+00</td>\n",
       "                <td>0.000000e+00</td>\n",
       "                <td></td>\n",
       "                <td></td>\n",
       "                <td></td>\n",
       "            </tr>\n",
       "            \n",
       "            <tr>\n",
       "                <td>17</td>\n",
       "                <td>dVss_0</td>\n",
       "                <td>3.974142e-10</td>\n",
       "                <td>9.357714e-11</td>\n",
       "                <td>0.000000e+00</td>\n",
       "                <td>0.000000e+00</td>\n",
       "                <td></td>\n",
       "                <td></td>\n",
       "                <td></td>\n",
       "            </tr>\n",
       "            \n",
       "            <tr>\n",
       "                <td>18</td>\n",
       "                <td>dVps_0</td>\n",
       "                <td>3.099508e-08</td>\n",
       "                <td>3.904416e-09</td>\n",
       "                <td>0.000000e+00</td>\n",
       "                <td>0.000000e+00</td>\n",
       "                <td></td>\n",
       "                <td></td>\n",
       "                <td></td>\n",
       "            </tr>\n",
       "            \n",
       "            <tr>\n",
       "                <td>19</td>\n",
       "                <td>dVss_1</td>\n",
       "                <td>2.738780e-11</td>\n",
       "                <td>3.161562e-11</td>\n",
       "                <td>0.000000e+00</td>\n",
       "                <td>0.000000e+00</td>\n",
       "                <td></td>\n",
       "                <td></td>\n",
       "                <td></td>\n",
       "            </tr>\n",
       "            \n",
       "            <tr>\n",
       "                <td>20</td>\n",
       "                <td>dVps_1</td>\n",
       "                <td>-1.572664e-10</td>\n",
       "                <td>3.015169e-09</td>\n",
       "                <td>0.000000e+00</td>\n",
       "                <td>0.000000e+00</td>\n",
       "                <td></td>\n",
       "                <td></td>\n",
       "                <td></td>\n",
       "            </tr>\n",
       "            \n",
       "            </table>\n",
       "        \n",
       "            <pre id=\"TKCEZNCfKG\" style=\"display:none;\">\n",
       "            <textarea rows=\"46\" cols=\"50\" onclick=\"this.select()\" readonly>\\begin{tabular}{|c|r|r|r|r|r|r|r|c|}\n",
       "\\hline\n",
       " & Name & Value & Para Error & Error+ & Error- & Limit+ & Limit- & FIXED\\\\\n",
       "\\hline\n",
       "1 & $E_{0}$ & 4.925e-01 & 1.260e-03 &  &  &  &  & \\\\\n",
       "\\hline\n",
       "2 & $dE_{10}$ & 4.084e-01 & 2.155e-02 &  &  & 0.000e+00 & 1.000e+01 & \\\\\n",
       "\\hline\n",
       "3 & $zs_{0}$ & 2.167e-05 & 1.464e-07 &  &  & 0.000e+00 & 1.000e+00 & \\\\\n",
       "\\hline\n",
       "4 & $zp_{0}$ & 2.291e-03 & 1.782e-05 &  &  &  &  & \\\\\n",
       "\\hline\n",
       "5 & $zs_{1}$ & 1.261e-05 & 2.059e-06 &  &  & 0.000e+00 & 1.000e+00 & \\\\\n",
       "\\hline\n",
       "6 & $zp_{1}$ & 3.043e-03 & 4.935e-04 &  &  &  &  & \\\\\n",
       "\\hline\n",
       "7 & $gA_{00}$ & 1.267e+00 & 7.757e-03 &  &  &  &  & \\\\\n",
       "\\hline\n",
       "8 & $gA_{11}$ & 1.563e+00 & 8.213e-02 &  &  & -2.000e+01 & 2.000e+01 & \\\\\n",
       "\\hline\n",
       "9 & $gA_{10}$ & -1.192e-02 & 2.702e-02 &  &  & -1.000e+01 & 1.000e+01 & \\\\\n",
       "\\hline\n",
       "10 & $gV_{00}$ & 1.024e+00 & 6.162e-04 &  &  &  &  & \\\\\n",
       "\\hline\n",
       "11 & $gV_{11}$ & 1.058e+00 & 1.811e-02 &  &  & -2.000e+01 & 2.000e+01 & \\\\\n",
       "\\hline\n",
       "12 & $gV_{10}$ & -6.529e-02 & 7.553e-03 &  &  & -1.000e+01 & 1.000e+01 & \\\\\n",
       "\\hline\n",
       "13 & $dAss_{0}$ & -4.778e-10 & 2.737e-10 &  &  &  &  & \\\\\n",
       "\\hline\n",
       "14 & $dAps_{0}$ & -6.248e-08 & 1.315e-08 &  &  &  &  & \\\\\n",
       "\\hline\n",
       "15 & $dAss_{1}$ & -4.132e-10 & 9.254e-11 &  &  &  &  & \\\\\n",
       "\\hline\n",
       "16 & $dAps_{1}$ & 1.535e-08 & 1.017e-08 &  &  &  &  & \\\\\n",
       "\\hline\n",
       "17 & $dVss_{0}$ & 3.974e-10 & 9.358e-11 &  &  &  &  & \\\\\n",
       "\\hline\n",
       "18 & $dVps_{0}$ & 3.100e-08 & 3.904e-09 &  &  &  &  & \\\\\n",
       "\\hline\n",
       "19 & $dVss_{1}$ & 2.739e-11 & 3.162e-11 &  &  &  &  & \\\\\n",
       "\\hline\n",
       "20 & $dVps_{1}$ & -1.573e-10 & 3.015e-09 &  &  &  &  & \\\\\n",
       "\\hline\n",
       "\\end{tabular}</textarea>\n",
       "            </pre>\n",
       "            "
      ]
     },
     "metadata": {},
     "output_type": "display_data"
    },
    {
     "data": {
      "text/html": [
       "<hr>"
      ]
     },
     "metadata": {},
     "output_type": "display_data"
    },
    {
     "name": "stdout",
     "output_type": "stream",
     "text": [
      "chi^2 = 39.8200, dof = 38, Q=0.3890\n"
     ]
    }
   ],
   "source": [
    "min_fh = fh.fit(ens,params)"
   ]
  },
  {
   "cell_type": "code",
   "execution_count": 5,
   "metadata": {
    "collapsed": false
   },
   "outputs": [
    {
     "data": {
      "image/png": "[encoded data removed]",
      "text/plain": [
       "<matplotlib.figure.Figure at 0x107bbfad0>"
      ]
     },
     "metadata": {},
     "output_type": "display_data"
    }
   ],
   "source": [
    "l_ss = ['E_0','dE_10','zs_0','zs_1']\n",
    "l_ps = ['E_0','dE_10','zs_0','zp_0','zs_1','zp_1']\n",
    "fh.plot_results(ens,params,min_fh,'proton',[l_ss,l_ps],'two_pt')"
   ]
  },
  {
   "cell_type": "code",
   "execution_count": 6,
   "metadata": {
    "collapsed": false
   },
   "outputs": [
    {
     "data": {
      "image/png": "[encoded data removed]",
      "text/plain": [
       "<matplotlib.figure.Figure at 0x11537a290>"
      ]
     },
     "metadata": {},
     "output_type": "display_data"
    }
   ],
   "source": [
    "l_ss = ['E_0','dE_10','zs_0','zs_1','gA_00','gA_11','gA_10','dAss_0','dAss_1']\n",
    "l_ps = ['E_0','dE_10','zs_0','zp_0','zs_1','zp_1','gA_00','gA_11','gA_10','dAps_0','dAps_1']\n",
    "fh.plot_results(ens,params,min_fh,'gA',[l_ss,l_ps],'gA')"
   ]
  },
  {
   "cell_type": "code",
   "execution_count": 7,
   "metadata": {
    "collapsed": false
   },
   "outputs": [
    {
     "data": {
      "image/png": "[encoded data removed]",
      "text/plain": [
       "<matplotlib.figure.Figure at 0x1146dafd0>"
      ]
     },
     "metadata": {},
     "output_type": "display_data"
    }
   ],
   "source": [
    "l_ss = ['E_0','dE_10','zs_0','zs_1','gV_00','gV_11','gV_10','dVss_0','dVss_1']\n",
    "l_ps = ['E_0','dE_10','zs_0','zp_0','zs_1','zp_1','gV_00','gV_11','gV_10','dVps_0','dVps_1']\n",
    "fh.plot_results(ens,params,min_fh,'gV',[l_ss,l_ps],'gV')"
   ]
  },
  {
   "cell_type": "markdown",
   "metadata": {},
   "source": [
    "<center>\n",
    "    <span style=\"color: black; font-family: Helvetica; font-size: 2em\">\n",
    "        These calculations are made possible by\n",
    "    </span>\n",
    "</center>\n",
    "\n",
    "| | |\n",
    "|:---:|:---:|\n",
    "| [<img src='incite_logo.png' width='200'/>](http://www.doeleadershipcomputing.org/)  | [<img src='olcf_logo.png' width='320'/>](https://www.olcf.ornl.gov/) |\n",
    "| [<img src='llnl_logo.png' width='640' />](https://hpc.llnl.gov/) | [<img src='scidac_logo.png' width='350' />](http://www.scidac.gov/) |"
   ]
  }
 ],
 "metadata": {
  "kernelspec": {
   "display_name": "Python 2",
   "language": "python",
   "name": "python2"
  },
  "language_info": {
   "codemirror_mode": {
    "name": "ipython",
    "version": 2
   },
   "file_extension": ".py",
   "mimetype": "text/x-python",
   "name": "python",
   "nbconvert_exporter": "python",
   "pygments_lexer": "ipython2",
   "version": "2.7.14"
  }
 },
 "nbformat": 4,
 "nbformat_minor": 2
}
