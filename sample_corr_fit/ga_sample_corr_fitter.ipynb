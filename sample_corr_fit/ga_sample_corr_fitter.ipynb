{
 "cells": [
  {
   "cell_type": "markdown",
   "metadata": {},
   "source": [
    "<figure style=\"float:right\">\n",
    "<a href=\"http://c51.lbl.gov/~walkloud/callat/\">\n",
    "    <img\n",
    "    src=\"callat_logo.png\"\n",
    "    width=\"150\"\n",
    "    alt=\"CalLat logo\"\n",
    "    /img>\n",
    "</a>\n",
    "</figure>\n",
    "\n",
    "# Jupyter notebook for CalLat gA project:\n",
    "\n",
    "# sample correlation function fitter "
   ]
  },
  {
   "cell_type": "markdown",
   "metadata": {},
   "source": [
    "## Import libraries"
   ]
  },
  {
   "cell_type": "code",
   "execution_count": 1,
   "metadata": {
    "collapsed": true
   },
   "outputs": [],
   "source": [
    "%load_ext autoreload"
   ]
  },
  {
   "cell_type": "code",
   "execution_count": 2,
   "metadata": {
    "collapsed": false,
    "scrolled": true
   },
   "outputs": [
    {
     "name": "stdout",
     "output_type": "stream",
     "text": [
      "python  version: 2.7.14 (default, Jan  6 2018, 12:15:00) \n",
      "[GCC 4.2.1 Compatible Apple LLVM 9.0.0 (clang-900.0.39.2)]\n",
      "numpy   version: 1.14.2\n",
      "scipy   version: 1.0.1\n",
      "iminuit version: 1.1.1\n"
     ]
    }
   ],
   "source": [
    "from __future__ import print_function\n",
    "%autoreload\n",
    "%matplotlib inline\n",
    "import sys\n",
    "import matplotlib.pyplot as plt\n",
    "import tables as h5\n",
    "import scipy as sp\n",
    "import numpy as np\n",
    "np.set_printoptions(linewidth=180)\n",
    "import fit_functions as fit_fh\n",
    "import iminuit as mn\n",
    "import random\n",
    "import tqdm\n",
    "import theano as th\n",
    "import theano.tensor as Tn\n",
    "import fh_fit as fh\n",
    "import fit_params as fitp\n",
    "print(\"python  version:\", sys.version)\n",
    "print(\"numpy   version:\", np.__version__)\n",
    "print(\"scipy   version:\", sp.__version__)\n",
    "print(\"iminuit version:\", mn.__version__)"
   ]
  },
  {
   "cell_type": "markdown",
   "metadata": {},
   "source": [
    "## Override default analysis parameters"
   ]
  },
  {
   "cell_type": "code",
   "execution_count": null,
   "metadata": {
    "collapsed": false
   },
   "outputs": [],
   "source": [
    "ens = 'a09m220'\n",
    "params = fitp.params\n",
    "override = False\n",
    "if override:# These parasm are for the a09m310 ensemble\n",
    "    params['tau'] = 1\n",
    "    params['bs'] = False\n",
    "    params[ens]['seed'] = ens\n",
    "    params[ens]['Nbs']  = 5000\n",
    "    params[ens]['t_min_max'] = {\n",
    "        'proton':[9,16],\n",
    "        'gA'    :[3,12],\n",
    "        'gV'    :[7,17]\n",
    "    }\n",
    "    params[ens]['plt_range'] = {\n",
    "        'proton':[7,18,0.47,0.55],\n",
    "        'gA'    :[0,15,1.1,1.5],\n",
    "        'gV'    :[5,20,1.015,1.035]\n",
    "    }\n",
    "    params[ens]['fit_ini'] = {\n",
    "        'E_0'   :.49241,\n",
    "        'dE_10' :.408,\n",
    "        'zs_0'  :2.2e-5,\n",
    "        'zp_0'  :2.3e-3,\n",
    "        'zs_1'  :1.3e-5,\n",
    "        'zp_1'  :3.1e-3,\n",
    "        'gA_00' :1.27,\n",
    "        'gV_00' :1.02,\n",
    "        'gA_11' :1.55,\n",
    "        'gA_10' :-.01,\n",
    "        'dAss_0':-4.7e-10,\n",
    "        'dAps_0':-6.2e-8,\n",
    "        'dAss_1':-4.2e-10,\n",
    "        'dAps_1':1.5e-8,\n",
    "        'gV_11' :1.06,\n",
    "        'gV_10' :-0.066,\n",
    "        'dVss_0':3.9e-10,\n",
    "        'dVps_0':3.1e-8,\n",
    "        'dVss_1':2.6e-11,\n",
    "        'dVps_1':-4.1e-10,\n",
    "    }"
   ]
  },
  {
   "cell_type": "code",
   "execution_count": null,
   "metadata": {
    "collapsed": false
   },
   "outputs": [],
   "source": [
    "min_fh = fh.fit(ens,params)"
   ]
  },
  {
   "cell_type": "code",
   "execution_count": null,
   "metadata": {
    "collapsed": false
   },
   "outputs": [],
   "source": [
    "l_ss = ['E_0','dE_10','zs_0','zs_1']\n",
    "l_ps = ['E_0','dE_10','zs_0','zp_0','zs_1','zp_1']\n",
    "fh.plot_results(ens,params,min_fh,'proton',[l_ss,l_ps],'two_pt')"
   ]
  },
  {
   "cell_type": "code",
   "execution_count": null,
   "metadata": {
    "collapsed": false
   },
   "outputs": [],
   "source": [
    "l_ss = ['E_0','dE_10','zs_0','zs_1','gA_00','gA_11','gA_10','dAss_0','dAss_1']\n",
    "l_ps = ['E_0','dE_10','zs_0','zp_0','zs_1','zp_1','gA_00','gA_11','gA_10','dAps_0','dAps_1']\n",
    "fh.plot_results(ens,params,min_fh,'gA',[l_ss,l_ps],'gA')"
   ]
  },
  {
   "cell_type": "code",
   "execution_count": null,
   "metadata": {
    "collapsed": false
   },
   "outputs": [],
   "source": [
    "l_ss = ['E_0','dE_10','zs_0','zs_1','gV_00','gV_11','gV_10','dVss_0','dVss_1']\n",
    "l_ps = ['E_0','dE_10','zs_0','zp_0','zs_1','zp_1','gV_00','gV_11','gV_10','dVps_0','dVps_1']\n",
    "fh.plot_results(ens,params,min_fh,'gV',[l_ss,l_ps],'gV')"
   ]
  },
  {
   "cell_type": "markdown",
   "metadata": {},
   "source": [
    "<center>\n",
    "    <span style=\"color: black; font-family: Helvetica; font-size: 2em\">\n",
    "        These calculations are made possible by\n",
    "    </span>\n",
    "</center>\n",
    "\n",
    "| | |\n",
    "|:---:|:---:|\n",
    "| [<img src='incite_logo.png' width='200'/>](http://www.doeleadershipcomputing.org/)  | [<img src='olcf_logo.png' width='320'/>](https://www.olcf.ornl.gov/) |\n",
    "| [<img src='llnl_logo.png' width='640' />](https://hpc.llnl.gov/) | [<img src='scidac_logo.png' width='350' />](http://www.scidac.gov/) |"
   ]
  }
 ],
 "metadata": {
  "kernelspec": {
   "display_name": "Python 2",
   "language": "python",
   "name": "python2"
  },
  "language_info": {
   "codemirror_mode": {
    "name": "ipython",
    "version": 2
   },
   "file_extension": ".py",
   "mimetype": "text/x-python",
   "name": "python",
   "nbconvert_exporter": "python",
   "pygments_lexer": "ipython2",
   "version": "2.7.14"
  }
 },
 "nbformat": 4,
 "nbformat_minor": 2
}
