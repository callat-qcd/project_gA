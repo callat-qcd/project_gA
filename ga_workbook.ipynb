{
 "cells": [
  {
   "cell_type": "markdown",
   "metadata": {},
   "source": [
    "<figure style=\"float:right\">\n",
    "    <img\n",
    "    src=\"./data/callat_logo.png\"\n",
    "    width=\"150\"\n",
    "    alt=\"CalLat logo\"\n",
    "    /img>\n",
    "</figure>\n",
    "\n",
    "# Jupyter notebook for CalLat gA project "
   ]
  },
  {
   "cell_type": "markdown",
   "metadata": {},
   "source": [
    "## Import libraries"
   ]
  },
  {
   "cell_type": "code",
   "execution_count": 1,
   "metadata": {},
   "outputs": [
    {
     "name": "stdout",
     "output_type": "stream",
     "text": [
      "python version: 3.6.1 |Anaconda 4.4.0 (x86_64)| (default, May 11 2017, 13:04:09) \n",
      "[GCC 4.2.1 Compatible Apple LLVM 6.0 (clang-600.0.57)]\n",
      "pandas version: 0.20.1\n",
      "numpy  version: 1.12.1\n",
      "scipy  version: 0.19.0\n",
      "mpl    version: 2.0.2\n",
      "lsqfit version: 9.1.3\n",
      "gvar   version: 8.3.2\n"
     ]
    }
   ],
   "source": [
    "import pandas as pd\n",
    "pd.options.display.max_rows = 16\n",
    "import numpy as np\n",
    "import scipy as sp\n",
    "import scipy.stats as stats\n",
    "%matplotlib inline\n",
    "import matplotlib as mpl\n",
    "import lsqfit\n",
    "import gvar as gv\n",
    "import callat_ga_lib as xlib\n",
    "import sys\n",
    "print(\"python version:\", sys.version)\n",
    "print(\"pandas version:\", pd.__version__)\n",
    "print(\"numpy  version:\", np.__version__)\n",
    "print(\"scipy  version:\", sp.__version__)\n",
    "print(\"mpl    version:\", mpl.__version__)\n",
    "print(\"lsqfit version:\", lsqfit.__version__)\n",
    "print(\"gvar   version:\", gv.__version__)"
   ]
  },
  {
   "cell_type": "markdown",
   "metadata": {},
   "source": [
    "## Define analysis parameters\n",
    "* `switches['ensembles']` | list of strings\n",
    "    * select the ensembles that are used to perform the extrapolation\n",
    "    * the three rows correspond to the 0.15, 0.12, and 0.09 fm ensembles that are available\n",
    "* `switches['ansatz']` | dictionary\n",
    "    * define the fit ansatz for the extrapolation\n",
    "    * `['type']` | string: chooses between a Taylor expansion or Baryon Xpt\n",
    "        * Taylor expansion only includes even powers of ε<sub>π</sub>\n",
    "    * `['truncation']` | integer: is an integer n corresponding to the order of ε<sub>π</sub><sup>n</sup>\n",
    "    * `['FV']` | boolean: True turns on NLO FV corrections for both Baryon Xpt and Taylor\n",
    "    * `['xsb']` | boolean: True turns on am<sub>π</sub> term for Baryon Xpt\n",
    "    * `['alpha']` | boolean: True turns on α<sub>s</sub>a<sup>2</sup> for Baryon Xpt"
   ]
  },
  {
   "cell_type": "code",
   "execution_count": 2,
   "metadata": {
    "collapsed": true
   },
   "outputs": [],
   "source": [
    "switches = dict()\n",
    "# Ensembles used in extrapolation\n",
    "switches['ensembles'] = [\n",
    "    'l1648f211b580m0217m065m838','l2464f211b600m0170m0509m635','l3264f211b630m0124m037m440',\n",
    "    'l1648f211b580m0166m065m838','l2464f211b600m0130m0509m635','l3264f211b630m00945m037m440',\n",
    "    'l1648f211b580m013m065m838','l2464f211b600m0102m0509m635','l3296f211b630m0074m037m440',\n",
    "    'l2448f211b580m0064m0640m828','l3264f211b600m00507m0507m628','l4896f211b630m00363m0363m430',\n",
    "    'l2464f211b600m00507m0507m628','l4064f211b600m00507m0507m628',\n",
    "    'l3248f211b580m00235m0647m831','l4864f211b600m00184m0507m628'\n",
    "    ]\n",
    "\n",
    "switches['ansatz'] = dict()\n",
    "### Type of fit: 'xpt_N', 'taylor_N', 'linear_N', 'constant_N', 'xpt-full_4', 'xpt-doublelog_4', 'xpt-delta_N'\n",
    "switches['ansatz']['type'] = ['xpt_3','xpt_4','taylor_2','taylor_4','linear_2','linear_4']\n",
    "#switches['ansatz']['type'] = ['taylor_2','taylor_4']\n",
    "switches['ansatz']['FV'] = True # True turns on NLO FV correction\n",
    "switches['ansatz']['xsb'] = False # True turns on O(a) discretization\n",
    "switches['ansatz']['alpha'] = False # True turns on O(alpha_s a^2) discretization\n",
    "### plot tools \n",
    "switches['plot'] = dict()\n",
    "switches['plot']['chiral'] = True\n",
    "switches['plot']['continuum'] = True\n",
    "switches['plot']['FV'] = True\n",
    "switches['plot']['model_avg_histogram'] = True\n",
    "# For the switches below to work\n",
    "# the corresponding plot above must be True\n",
    "switches['plot']['model_avg_chiral'] = True\n",
    "switches['plot']['model_avg_cont'] = True\n",
    "switches['plot']['model_avg_fv'] = True\n",
    "# Save figs to local directory?\n",
    "switches['save_figs'] = True\n",
    "# inflation of prior widths\n",
    "# multiplicative factor for prior width of epsilon_delta\n",
    "switches['eps_delta_sig'] = 0.05\n",
    "switches['axial_sig'] = 0.3333\n",
    "# multiplicative factor for NxLO LECs\n",
    "p_lo = 1.\n",
    "p_nlo = 1.\n",
    "p_nnlo = 1.\n",
    "p_nnloa = 1."
   ]
  },
  {
   "cell_type": "markdown",
   "metadata": {},
   "source": [
    "## Define priors and PDG values\n",
    "`gvar` datatype has the form `gv.gvar(mean, standard deviation)`\n",
    "\n",
    "[gvar documentation](https://github.com/gplepage/gvar/blob/master/doc/gvar.pdf)"
   ]
  },
  {
   "cell_type": "code",
   "execution_count": 3,
   "metadata": {
    "collapsed": true
   },
   "outputs": [],
   "source": [
    "priors = dict()\n",
    "# Xpt priors\n",
    "priors['xpt'] = dict()\n",
    "priors['xpt']['g0'] = gv.gvar(1.0, p_lo*1.0) # LO LEC\n",
    "priors['xpt']['a1'] = gv.gvar(0.0, 1E-3) # DWF order a discretization\n",
    "priors['xpt']['c2'] = gv.gvar(0.0, p_nlo*50.0) # NLO counterterm epi^2\n",
    "priors['xpt']['c3'] = gv.gvar(0.0, p_nnlo*50.0) # NNLO LEC epi^3\n",
    "priors['xpt']['a2'] = gv.gvar(0.0, p_nlo*50.0) # NLO a^2\n",
    "priors['xpt']['s2'] = gv.gvar(0.0, 1.0) # NLO alpha_s a^2\n",
    "priors['xpt']['a4'] = gv.gvar(0.0, p_nnloa*p_nnlo*1.0) # NNNLO a^4\n",
    "priors['xpt']['b4'] = gv.gvar(0.0, p_nnlo*1.0) # NNNLO a^2 epi^2\n",
    "priors['xpt']['c4'] = gv.gvar(0.0, p_nnlo*10.0) # NNNLO epi^4\n",
    "priors['xpt']['gm4'] = gv.gvar(0.0, 50.0) # NNNLO log term\n",
    "priors['xpt']['gnd0'] = gv.gvar(-6./5*1.2,switches['axial_sig']*6/5*1.2) # delta LECs\n",
    "priors['xpt']['gdd0'] = gv.gvar(-9./5*1.2,switches['axial_sig']*9/5*1.2) # delta LECs\n",
    "# taylor priors\n",
    "priors['taylor'] = dict()\n",
    "priors['taylor']['g0'] = gv.gvar(1.5, p_nlo*1.5) # FV coefficient\n",
    "priors['taylor']['c0'] = gv.gvar(1.0, p_lo*10.0) # constant\n",
    "priors['taylor']['c2'] = gv.gvar(0.0, p_nlo*10.0) # epi^2\n",
    "priors['taylor']['a2'] = gv.gvar(0.0, p_nlo*10.0) # a^2\n",
    "priors['taylor']['c4'] = gv.gvar(0.0, p_nnlo*10.0) # epi^4\n",
    "priors['taylor']['a4'] = gv.gvar(0.0, p_nnloa*p_nnlo*1.0) # a^4\n",
    "priors['taylor']['b4'] = gv.gvar(0.0, p_nnlo*1.0) # a^2 epi^2\n",
    "# linear priors\n",
    "priors['linear'] = dict()\n",
    "priors['linear']['g0'] = gv.gvar(1.5, p_nlo*1.5) # FV coefficient\n",
    "priors['linear']['c0'] = gv.gvar(1.0, p_lo*10.0) # constant\n",
    "priors['linear']['c2'] = gv.gvar(0.0, p_nlo*10.0) # epi\n",
    "priors['linear']['a2'] = gv.gvar(0.0, p_nlo*50.0) # a^2\n",
    "priors['linear']['a4'] = gv.gvar(0.0, p_nnloa*p_nnlo*1.0) # a^4\n",
    "priors['linear']['c4'] = gv.gvar(0.0, p_nnlo*1.0) # epi^2\n",
    "# constant priors\n",
    "priors['constant'] = dict()\n",
    "priors['constant']['g0'] = gv.gvar(1.5, p_nlo*1.5) # FV coefficient\n",
    "priors['constant']['c0'] = gv.gvar(1.0, p_lo*10.0) # constant\n",
    "priors['constant']['a2'] = gv.gvar(0.0, p_nlo*10.0) # a^2\n",
    "priors['constant']['a4'] = gv.gvar(0.0, p_nnloa*p_nnlo*1.0) # a^4\n",
    "\n",
    "# Physical parameters from PDG\n",
    "phys_params = dict()\n",
    "# http://pdg.lbl.gov/2016/tables/rpp2016-tab-mesons-light.pdf\n",
    "phys_params['mpi'] = gv.gvar(139.57018, 0.00035) # mpi +/- [MeV]\n",
    "# http://pdg.lbl.gov/2016/reviews/rpp2016-rev-pseudoscalar-meson-decay-cons.pdf\n",
    "phys_params['fpi'] = gv.gvar(130.2, 1.7) # fpi + ['MeV']\n",
    "# http://pdg.lbl.gov/2017/listings/rpp2017-list-Delta-1232.pdf\n",
    "phys_params['Delta'] = gv.gvar(293, 2) # Delta(1232) Breit Wigner Mass"
   ]
  },
  {
   "cell_type": "markdown",
   "metadata": {},
   "source": [
    "## Import data\n",
    "[pandas dataframe documentation](http://pandas.pydata.org/pandas-docs/stable/generated/pandas.DataFrame.html)"
   ]
  },
  {
   "cell_type": "code",
   "execution_count": 4,
   "metadata": {},
   "outputs": [
    {
     "ename": "KeyError",
     "evalue": "\"['ga' 'epi' 'mpil'] not in index\"",
     "output_type": "error",
     "traceback": [
      "\u001b[0;31m---------------------------------------------------------------------------\u001b[0m",
      "\u001b[0;31mKeyError\u001b[0m                                  Traceback (most recent call last)",
      "\u001b[0;32m<ipython-input-4-6ed57f7adcf5>\u001b[0m in \u001b[0;36m<module>\u001b[0;34m()\u001b[0m\n\u001b[1;32m      1\u001b[0m \u001b[0;31m# import correlator bootstraps\u001b[0m\u001b[0;34m\u001b[0m\u001b[0;34m\u001b[0m\u001b[0m\n\u001b[1;32m      2\u001b[0m \u001b[0mgadf\u001b[0m \u001b[0;34m=\u001b[0m \u001b[0mpd\u001b[0m\u001b[0;34m.\u001b[0m\u001b[0mread_csv\u001b[0m\u001b[0;34m(\u001b[0m\u001b[0;34m'./data/github_ga_v2.csv'\u001b[0m\u001b[0;34m)\u001b[0m\u001b[0;34m\u001b[0m\u001b[0m\n\u001b[0;32m----> 3\u001b[0;31m \u001b[0mgadf\u001b[0m\u001b[0;34m.\u001b[0m\u001b[0mgroupby\u001b[0m\u001b[0;34m(\u001b[0m\u001b[0;34m'ensemble'\u001b[0m\u001b[0;34m)\u001b[0m\u001b[0;34m.\u001b[0m\u001b[0mdescribe\u001b[0m\u001b[0;34m(\u001b[0m\u001b[0;34m)\u001b[0m\u001b[0;34m[\u001b[0m\u001b[0;34m[\u001b[0m\u001b[0;34m'ga'\u001b[0m\u001b[0;34m,\u001b[0m\u001b[0;34m'epi'\u001b[0m\u001b[0;34m,\u001b[0m\u001b[0;34m'mpil'\u001b[0m\u001b[0;34m]\u001b[0m\u001b[0;34m]\u001b[0m\u001b[0;34m\u001b[0m\u001b[0m\n\u001b[0m",
      "\u001b[0;32m/Users/cchang5/anaconda/envs/pyqcd3/lib/python3.6/site-packages/pandas/core/frame.py\u001b[0m in \u001b[0;36m__getitem__\u001b[0;34m(self, key)\u001b[0m\n\u001b[1;32m   2054\u001b[0m         \u001b[0;32mif\u001b[0m \u001b[0misinstance\u001b[0m\u001b[0;34m(\u001b[0m\u001b[0mkey\u001b[0m\u001b[0;34m,\u001b[0m \u001b[0;34m(\u001b[0m\u001b[0mSeries\u001b[0m\u001b[0;34m,\u001b[0m \u001b[0mnp\u001b[0m\u001b[0;34m.\u001b[0m\u001b[0mndarray\u001b[0m\u001b[0;34m,\u001b[0m \u001b[0mIndex\u001b[0m\u001b[0;34m,\u001b[0m \u001b[0mlist\u001b[0m\u001b[0;34m)\u001b[0m\u001b[0;34m)\u001b[0m\u001b[0;34m:\u001b[0m\u001b[0;34m\u001b[0m\u001b[0m\n\u001b[1;32m   2055\u001b[0m             \u001b[0;31m# either boolean or fancy integer index\u001b[0m\u001b[0;34m\u001b[0m\u001b[0;34m\u001b[0m\u001b[0m\n\u001b[0;32m-> 2056\u001b[0;31m             \u001b[0;32mreturn\u001b[0m \u001b[0mself\u001b[0m\u001b[0;34m.\u001b[0m\u001b[0m_getitem_array\u001b[0m\u001b[0;34m(\u001b[0m\u001b[0mkey\u001b[0m\u001b[0;34m)\u001b[0m\u001b[0;34m\u001b[0m\u001b[0m\n\u001b[0m\u001b[1;32m   2057\u001b[0m         \u001b[0;32melif\u001b[0m \u001b[0misinstance\u001b[0m\u001b[0;34m(\u001b[0m\u001b[0mkey\u001b[0m\u001b[0;34m,\u001b[0m \u001b[0mDataFrame\u001b[0m\u001b[0;34m)\u001b[0m\u001b[0;34m:\u001b[0m\u001b[0;34m\u001b[0m\u001b[0m\n\u001b[1;32m   2058\u001b[0m             \u001b[0;32mreturn\u001b[0m \u001b[0mself\u001b[0m\u001b[0;34m.\u001b[0m\u001b[0m_getitem_frame\u001b[0m\u001b[0;34m(\u001b[0m\u001b[0mkey\u001b[0m\u001b[0;34m)\u001b[0m\u001b[0;34m\u001b[0m\u001b[0m\n",
      "\u001b[0;32m/Users/cchang5/anaconda/envs/pyqcd3/lib/python3.6/site-packages/pandas/core/frame.py\u001b[0m in \u001b[0;36m_getitem_array\u001b[0;34m(self, key)\u001b[0m\n\u001b[1;32m   2098\u001b[0m             \u001b[0;32mreturn\u001b[0m \u001b[0mself\u001b[0m\u001b[0;34m.\u001b[0m\u001b[0mtake\u001b[0m\u001b[0;34m(\u001b[0m\u001b[0mindexer\u001b[0m\u001b[0;34m,\u001b[0m \u001b[0maxis\u001b[0m\u001b[0;34m=\u001b[0m\u001b[0;36m0\u001b[0m\u001b[0;34m,\u001b[0m \u001b[0mconvert\u001b[0m\u001b[0;34m=\u001b[0m\u001b[0;32mFalse\u001b[0m\u001b[0;34m)\u001b[0m\u001b[0;34m\u001b[0m\u001b[0m\n\u001b[1;32m   2099\u001b[0m         \u001b[0;32melse\u001b[0m\u001b[0;34m:\u001b[0m\u001b[0;34m\u001b[0m\u001b[0m\n\u001b[0;32m-> 2100\u001b[0;31m             \u001b[0mindexer\u001b[0m \u001b[0;34m=\u001b[0m \u001b[0mself\u001b[0m\u001b[0;34m.\u001b[0m\u001b[0mloc\u001b[0m\u001b[0;34m.\u001b[0m\u001b[0m_convert_to_indexer\u001b[0m\u001b[0;34m(\u001b[0m\u001b[0mkey\u001b[0m\u001b[0;34m,\u001b[0m \u001b[0maxis\u001b[0m\u001b[0;34m=\u001b[0m\u001b[0;36m1\u001b[0m\u001b[0;34m)\u001b[0m\u001b[0;34m\u001b[0m\u001b[0m\n\u001b[0m\u001b[1;32m   2101\u001b[0m             \u001b[0;32mreturn\u001b[0m \u001b[0mself\u001b[0m\u001b[0;34m.\u001b[0m\u001b[0mtake\u001b[0m\u001b[0;34m(\u001b[0m\u001b[0mindexer\u001b[0m\u001b[0;34m,\u001b[0m \u001b[0maxis\u001b[0m\u001b[0;34m=\u001b[0m\u001b[0;36m1\u001b[0m\u001b[0;34m,\u001b[0m \u001b[0mconvert\u001b[0m\u001b[0;34m=\u001b[0m\u001b[0;32mTrue\u001b[0m\u001b[0;34m)\u001b[0m\u001b[0;34m\u001b[0m\u001b[0m\n\u001b[1;32m   2102\u001b[0m \u001b[0;34m\u001b[0m\u001b[0m\n",
      "\u001b[0;32m/Users/cchang5/anaconda/envs/pyqcd3/lib/python3.6/site-packages/pandas/core/indexing.py\u001b[0m in \u001b[0;36m_convert_to_indexer\u001b[0;34m(self, obj, axis, is_setter)\u001b[0m\n\u001b[1;32m   1211\u001b[0m                 \u001b[0;31m# if it cannot handle\u001b[0m\u001b[0;34m\u001b[0m\u001b[0;34m\u001b[0m\u001b[0m\n\u001b[1;32m   1212\u001b[0m                 indexer, objarr = labels._convert_listlike_indexer(\n\u001b[0;32m-> 1213\u001b[0;31m                     obj, kind=self.name)\n\u001b[0m\u001b[1;32m   1214\u001b[0m                 \u001b[0;32mif\u001b[0m \u001b[0mindexer\u001b[0m \u001b[0;32mis\u001b[0m \u001b[0;32mnot\u001b[0m \u001b[0;32mNone\u001b[0m\u001b[0;34m:\u001b[0m\u001b[0;34m\u001b[0m\u001b[0m\n\u001b[1;32m   1215\u001b[0m                     \u001b[0;32mreturn\u001b[0m \u001b[0mindexer\u001b[0m\u001b[0;34m\u001b[0m\u001b[0m\n",
      "\u001b[0;32m/Users/cchang5/anaconda/envs/pyqcd3/lib/python3.6/site-packages/pandas/core/indexes/multi.py\u001b[0m in \u001b[0;36m_convert_listlike_indexer\u001b[0;34m(self, keyarr, kind)\u001b[0m\n\u001b[1;32m   1751\u001b[0m             \u001b[0mmask\u001b[0m \u001b[0;34m=\u001b[0m \u001b[0mcheck\u001b[0m \u001b[0;34m==\u001b[0m \u001b[0;34m-\u001b[0m\u001b[0;36m1\u001b[0m\u001b[0;34m\u001b[0m\u001b[0m\n\u001b[1;32m   1752\u001b[0m             \u001b[0;32mif\u001b[0m \u001b[0mmask\u001b[0m\u001b[0;34m.\u001b[0m\u001b[0many\u001b[0m\u001b[0;34m(\u001b[0m\u001b[0;34m)\u001b[0m\u001b[0;34m:\u001b[0m\u001b[0;34m\u001b[0m\u001b[0m\n\u001b[0;32m-> 1753\u001b[0;31m                 \u001b[0;32mraise\u001b[0m \u001b[0mKeyError\u001b[0m\u001b[0;34m(\u001b[0m\u001b[0;34m'%s not in index'\u001b[0m \u001b[0;34m%\u001b[0m \u001b[0mkeyarr\u001b[0m\u001b[0;34m[\u001b[0m\u001b[0mmask\u001b[0m\u001b[0;34m]\u001b[0m\u001b[0;34m)\u001b[0m\u001b[0;34m\u001b[0m\u001b[0m\n\u001b[0m\u001b[1;32m   1754\u001b[0m \u001b[0;34m\u001b[0m\u001b[0m\n\u001b[1;32m   1755\u001b[0m         \u001b[0;32mreturn\u001b[0m \u001b[0mindexer\u001b[0m\u001b[0;34m,\u001b[0m \u001b[0mkeyarr\u001b[0m\u001b[0;34m\u001b[0m\u001b[0m\n",
      "\u001b[0;31mKeyError\u001b[0m: \"['ga' 'epi' 'mpil'] not in index\""
     ]
    }
   ],
   "source": [
    "# import correlator bootstraps\n",
    "gadf = pd.read_csv('./data/github_ga_v2.csv')\n",
    "gadf.groupby('ensemble').describe()[['ga','epi','mpil']]"
   ]
  },
  {
   "cell_type": "code",
   "execution_count": null,
   "metadata": {},
   "outputs": [],
   "source": [
    "# import HISQ parameters\n",
    "hqdf = pd.read_csv('./data/hisq_params.csv')\n",
    "hqdf"
   ]
  },
  {
   "cell_type": "markdown",
   "metadata": {},
   "source": [
    "## Format data for analysis"
   ]
  },
  {
   "cell_type": "code",
   "execution_count": null,
   "metadata": {
    "collapsed": true
   },
   "outputs": [],
   "source": [
    "data = xlib.format_data(switches, gadf, hqdf)"
   ]
  },
  {
   "cell_type": "markdown",
   "metadata": {},
   "source": [
    "## Chiral-continuum fit\n",
    "[lsqfit documentation](https://github.com/gplepage/lsqfit/blob/master/doc/lsqfit.pdf)"
   ]
  },
  {
   "cell_type": "code",
   "execution_count": null,
   "metadata": {
    "scrolled": false
   },
   "outputs": [],
   "source": [
    "result = xlib.fit_data(switches, priors, data, phys_params)\n",
    "for a in switches['ansatz']['type']:\n",
    "    print(result[a]['fit'])\n",
    "    print(\"%s physical point result:\" %a, result[a]['phys']['result'])\n",
    "    print('%s, %s, %s, %s' %(result[a]['phys']['result'].mean, result[a]['phys']['result'].sdev, result[a]['fit'].chi2/result[a]['fit'].dof, result[a]['fit'].logGBF))"
   ]
  },
  {
   "cell_type": "markdown",
   "metadata": {},
   "source": [
    "## Systematic error budget\n",
    "The total uncertainty here differs from the paper because uncertainty from finite volume and isospin breaking have yet to be included. These two systematic uncertainties are estimated independently and added in quadrature after this analysis.\n",
    "\n",
    "In the paper, the input uncertainty is absorbed into the statistical uncertainty."
   ]
  },
  {
   "cell_type": "code",
   "execution_count": null,
   "metadata": {
    "scrolled": true
   },
   "outputs": [],
   "source": [
    "error = xlib.error_budget(switches,result)\n",
    "for a in switches['ansatz']['type']:\n",
    "    print(a)\n",
    "    print(pd.DataFrame.from_dict(error[a]['pct']).rename(index={0: 'pct. uncertainty'})[['stat','chiral','disc','input','total']])\n",
    "    print('')"
   ]
  },
  {
   "cell_type": "markdown",
   "metadata": {},
   "source": [
    "## Plot results\n",
    "* chiral extrapolation\n",
    "* convergence of extrapolation\n",
    "* continuum extrapolation\n",
    "* infinite volume extrapolation"
   ]
  },
  {
   "cell_type": "code",
   "execution_count": null,
   "metadata": {},
   "outputs": [],
   "source": [
    "# Chiral extrapolation and series convergence\n",
    "if switches['plot']['chiral']:\n",
    "    Plot = xlib.plot_chiral_fit()\n",
    "    r_chiral = Plot.plot_chiral(switches,data,result)\n",
    "    mpl.pyplot.show()"
   ]
  },
  {
   "cell_type": "code",
   "execution_count": null,
   "metadata": {},
   "outputs": [],
   "source": [
    "# Continuum extrapolation\n",
    "if switches['plot']['continuum']:\n",
    "    Plot = xlib.plot_chiral_fit()\n",
    "    r_cont = Plot.plot_continuum(switches,data,result)\n",
    "    mpl.pyplot.show()"
   ]
  },
  {
   "cell_type": "code",
   "execution_count": null,
   "metadata": {
    "scrolled": true
   },
   "outputs": [],
   "source": [
    "# Infinite volume extrapolation at 220 MeV 0.12 fm\n",
    "if switches['plot']['FV']:\n",
    "    Plot = xlib.plot_chiral_fit()\n",
    "    r_fv = Plot.plot_volume(switches,data,result)\n",
    "    mpl.pyplot.show()"
   ]
  },
  {
   "cell_type": "markdown",
   "metadata": {},
   "source": [
    "## Model averaging\n",
    "Model average with Bayes Factors provides more robust prediction than choosing any single result.\n",
    "\n",
    "From marginalizing over models $M_k$ for $k \\in \\{\\textrm{models}\\}$ we get the averaged posterior distribution to be:\n",
    "\n",
    "$P(g_A | \\textrm{data}) = \\sum_k P(g_A | M_k, \\textrm{data})P(M_k|\\textrm{data})$\n",
    "\n",
    "where\n",
    "\n",
    "$P(M_i|\\textrm{data}) = \\frac{\\textrm{BF}_i P(M_i)}{\\sum_k \\textrm{BF}_k P(M_k)} = \\frac{\\textrm{BF}_i}{\\sum_k \\textrm{BF}_k}$\n",
    "\n",
    "where the second equality is true if there are no a priori preferred models."
   ]
  },
  {
   "cell_type": "code",
   "execution_count": null,
   "metadata": {},
   "outputs": [],
   "source": [
    "# read Bayes Factors\n",
    "logGBF_list = []\n",
    "for a in switches['ansatz']['type']:\n",
    "    logGBF_list.append(result[a]['fit'].logGBF)\n",
    "# initiate a bunch of parameters\n",
    "# gA\n",
    "gA = 0\n",
    "gA_lst = []\n",
    "# weights\n",
    "w_lst = []\n",
    "wd = dict()\n",
    "# p. dist. fcn\n",
    "pdf = 0\n",
    "pdfdict = dict()\n",
    "# c. dist. fcn.\n",
    "cdf = 0\n",
    "cdfdict = dict()\n",
    "# for plotting\n",
    "x = np.linspace(1.222,1.352,13000)\n",
    "for a in switches['ansatz']['type']:\n",
    "    r = result[a]['phys']['result']\n",
    "    w = 1/sum(np.exp(np.array(logGBF_list)-result[a]['fit'].logGBF))\n",
    "    wd[a] = w\n",
    "    w_lst.append(w)\n",
    "    gA += w*r\n",
    "    gA_lst.append(r.mean)\n",
    "    p = stats.norm.pdf(x,r.mean,r.sdev)\n",
    "    pdf += w*p\n",
    "    pdfdict[a] = w*p\n",
    "    c = stats.norm.cdf(x,r.mean,r.sdev)\n",
    "    cdf += w*c\n",
    "    cdfdict[a] = w*c\n",
    "gA_lst = np.array(gA_lst)\n",
    "w_lst = np.array(w_lst)\n",
    "model_var = np.sum(w_lst*(gA_lst - gA.mean)**2)\n",
    "# extra uncertainties in quadrature\n",
    "fverror = 0.000158\n",
    "isospin = 0.000509\n",
    "final_error = np.sqrt(gA.sdev**2 + fverror**2 + isospin**2)\n",
    "print('  weight : model')\n",
    "for k in wd:\n",
    "    print(' %f: %s' %(wd[k],k))\n",
    "print('gA = %f +- %f +- %f' %(gA.mean,final_error,np.sqrt(model_var)))\n",
    "print ('percent uncertainty: %f +- %f' %(final_error/gA.mean*100,np.sqrt(model_var)/gA.mean*100))\n",
    "print('gA = %f, %f' %(gA.mean,np.sqrt(final_error**2+model_var)))\n",
    "print('percent uncertainty: %f' %(np.sqrt(final_error**2+model_var)/gA.mean*100))\n",
    "model_budget = xlib.modelavg_error(switches,result,gA)\n",
    "print(\"Error budget from extrapolation\")\n",
    "print(pd.DataFrame.from_dict(model_budget['pct']).rename(index={0: 'pct. uncertainty'})[['stat','chiral','disc','total']])"
   ]
  },
  {
   "cell_type": "code",
   "execution_count": null,
   "metadata": {},
   "outputs": [],
   "source": [
    "if switches['plot']['model_avg_histogram']:\n",
    "    Plot = xlib.plot_chiral_fit()\n",
    "    Plot.plot_histogram(switches,x,pdf,pdfdict,cdf)"
   ]
  },
  {
   "cell_type": "code",
   "execution_count": null,
   "metadata": {},
   "outputs": [],
   "source": [
    "if switches['plot']['model_avg_chiral']:\n",
    "    Plot = xlib.plot_chiral_fit()\n",
    "    Plot.model_avg_chiral(switches,phys_params,wd,r_chiral)"
   ]
  },
  {
   "cell_type": "code",
   "execution_count": null,
   "metadata": {},
   "outputs": [],
   "source": [
    "if switches['plot']['model_avg_cont']:\n",
    "    Plot = xlib.plot_chiral_fit()\n",
    "    Plot.model_avg_cont(switches,wd,r_cont)"
   ]
  },
  {
   "cell_type": "code",
   "execution_count": null,
   "metadata": {},
   "outputs": [],
   "source": [
    "if switches['plot']['model_avg_fv']:\n",
    "    Plot = xlib.plot_chiral_fit()\n",
    "    Plot.model_avg_fv(switches,wd,r_fv)"
   ]
  },
  {
   "cell_type": "markdown",
   "metadata": {},
   "source": [
    "<center>\n",
    "    <span style=\"color: black; font-family: Helvetica; font-size: 2em\">\n",
    "        These calculations are made possible by\n",
    "    </span>\n",
    "</center>\n",
    "\n",
    "<figure>\n",
    "    <img src='./data/incite_logo.png' width='200' />\n",
    "</figure>\n",
    "<figure>\n",
    "    <img src='./data/olcf_logo.png' width='240' />\n",
    "</figure>\n",
    "<figure>\n",
    "    <img src='./data/llnl_logo.png' width='550' />\n",
    "</figure>"
   ]
  },
  {
   "cell_type": "code",
   "execution_count": null,
   "metadata": {
    "collapsed": true
   },
   "outputs": [],
   "source": []
  }
 ],
 "metadata": {
  "kernelspec": {
   "display_name": "Python 3",
   "language": "python",
   "name": "python3"
  },
  "language_info": {
   "codemirror_mode": {
    "name": "ipython",
    "version": 3
   },
   "file_extension": ".py",
   "mimetype": "text/x-python",
   "name": "python",
   "nbconvert_exporter": "python",
   "pygments_lexer": "ipython3",
   "version": "3.6.1"
  }
 },
 "nbformat": 4,
 "nbformat_minor": 2
}
