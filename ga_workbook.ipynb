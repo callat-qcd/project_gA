{
 "cells": [
  {
   "cell_type": "markdown",
   "metadata": {},
   "source": [
    "# Jupyter notebook for CalLat gA project.\n",
    "### Import libraries"
   ]
  },
  {
   "cell_type": "code",
   "execution_count": 39,
   "metadata": {},
   "outputs": [
    {
     "name": "stdout",
     "output_type": "stream",
     "text": [
      "pandas version: 0.20.1\n",
      "numpy  version: 1.12.1\n",
      "mpl    version: 2.0.2\n",
      "lsqfit version: 9.1.3\n",
      "gvar   version: 8.3.2\n"
     ]
    }
   ],
   "source": [
    "import pandas as pd\n",
    "pd.options.display.max_rows = 6\n",
    "import numpy as np\n",
    "import matplotlib as mpl\n",
    "import matplotlib.pyplot as plt\n",
    "import lsqfit\n",
    "import gvar as gv\n",
    "print(\"pandas version:\", pd.__version__)\n",
    "print(\"numpy  version:\", np.__version__)\n",
    "print(\"mpl    version:\", mpl.__version__)\n",
    "print(\"lsqfit version:\", lsqfit.__version__)\n",
    "print(\"gvar   version:\", gvar.__version__)"
   ]
  },
  {
   "cell_type": "markdown",
   "metadata": {},
   "source": [
    "### Define analysis parameters"
   ]
  },
  {
   "cell_type": "code",
   "execution_count": 40,
   "metadata": {},
   "outputs": [],
   "source": [
    "switches = dict()\n",
    "# Ensembles used in extrapolation\n",
    "switches['ensembles'] = ['l1648f211b580m013m065m838','l2448f211b580m0064m0640m828','l3248f211b580m00235m0647m831',\n",
    "                'l2464f211b600m0170m0509m635','l2464f211b600m0130m0509m635','l2464f211b600m0102m0509m635','l2464f211b600m00507m0507m628','l3264f211b600m00507m0507m628','l4064f211b600m00507m0507m628', 'l4864f211b600m00184m0507m628',\n",
    "                'l3296f211b630m0074m037m440','l4896f211b630m00363m0363m430']\n",
    "\n",
    "switches['ansatz'] = dict()\n",
    "switches['ansatz']['type'] = 'Xpt' # Type of fit: 'Xpt' or 'taylor'\n",
    "switches['ansatz']['truncation'] = 4 # Order to truncate series"
   ]
  },
  {
   "cell_type": "markdown",
   "metadata": {},
   "source": [
    "### Import data"
   ]
  },
  {
   "cell_type": "code",
   "execution_count": 59,
   "metadata": {},
   "outputs": [
    {
     "data": {
      "text/html": [
       "<div>\n",
       "<style>\n",
       "    .dataframe thead tr:only-child th {\n",
       "        text-align: right;\n",
       "    }\n",
       "\n",
       "    .dataframe thead th {\n",
       "        text-align: left;\n",
       "    }\n",
       "\n",
       "    .dataframe tbody tr th {\n",
       "        vertical-align: top;\n",
       "    }\n",
       "</style>\n",
       "<table border=\"1\" class=\"dataframe\">\n",
       "  <thead>\n",
       "    <tr style=\"text-align: right;\">\n",
       "      <th></th>\n",
       "      <th>ensemble</th>\n",
       "      <th>nbs</th>\n",
       "      <th>ga</th>\n",
       "      <th>epi</th>\n",
       "      <th>mpil</th>\n",
       "    </tr>\n",
       "  </thead>\n",
       "  <tbody>\n",
       "    <tr>\n",
       "      <th>0</th>\n",
       "      <td>l1648f211b580m013m065m838</td>\n",
       "      <td>0</td>\n",
       "      <td>1.214927</td>\n",
       "      <td>0.249456</td>\n",
       "      <td>3.776239</td>\n",
       "    </tr>\n",
       "    <tr>\n",
       "      <th>1</th>\n",
       "      <td>l1648f211b580m013m065m838</td>\n",
       "      <td>1</td>\n",
       "      <td>1.210567</td>\n",
       "      <td>0.249160</td>\n",
       "      <td>3.781370</td>\n",
       "    </tr>\n",
       "    <tr>\n",
       "      <th>2</th>\n",
       "      <td>l1648f211b580m013m065m838</td>\n",
       "      <td>2</td>\n",
       "      <td>1.223266</td>\n",
       "      <td>0.249314</td>\n",
       "      <td>3.764355</td>\n",
       "    </tr>\n",
       "    <tr>\n",
       "      <th>...</th>\n",
       "      <td>...</td>\n",
       "      <td>...</td>\n",
       "      <td>...</td>\n",
       "      <td>...</td>\n",
       "      <td>...</td>\n",
       "    </tr>\n",
       "    <tr>\n",
       "      <th>60009</th>\n",
       "      <td>l4896f211b630m00363m0363m430</td>\n",
       "      <td>4998</td>\n",
       "      <td>1.261010</td>\n",
       "      <td>0.182535</td>\n",
       "      <td>4.694499</td>\n",
       "    </tr>\n",
       "    <tr>\n",
       "      <th>60010</th>\n",
       "      <td>l4896f211b630m00363m0363m430</td>\n",
       "      <td>4999</td>\n",
       "      <td>1.259121</td>\n",
       "      <td>0.182055</td>\n",
       "      <td>4.699100</td>\n",
       "    </tr>\n",
       "    <tr>\n",
       "      <th>60011</th>\n",
       "      <td>l4896f211b630m00363m0363m430</td>\n",
       "      <td>5000</td>\n",
       "      <td>1.252576</td>\n",
       "      <td>0.181791</td>\n",
       "      <td>4.698476</td>\n",
       "    </tr>\n",
       "  </tbody>\n",
       "</table>\n",
       "<p>60012 rows × 5 columns</p>\n",
       "</div>"
      ],
      "text/plain": [
       "                           ensemble   nbs        ga       epi      mpil\n",
       "0         l1648f211b580m013m065m838     0  1.214927  0.249456  3.776239\n",
       "1         l1648f211b580m013m065m838     1  1.210567  0.249160  3.781370\n",
       "2         l1648f211b580m013m065m838     2  1.223266  0.249314  3.764355\n",
       "...                             ...   ...       ...       ...       ...\n",
       "60009  l4896f211b630m00363m0363m430  4998  1.261010  0.182535  4.694499\n",
       "60010  l4896f211b630m00363m0363m430  4999  1.259121  0.182055  4.699100\n",
       "60011  l4896f211b630m00363m0363m430  5000  1.252576  0.181791  4.698476\n",
       "\n",
       "[60012 rows x 5 columns]"
      ]
     },
     "execution_count": 59,
     "metadata": {},
     "output_type": "execute_result"
    }
   ],
   "source": [
    "# import correlator bootstraps\n",
    "gadf = pd.read_csv('./github_ga_v1.csv')\n",
    "gadf"
   ]
  },
  {
   "cell_type": "code",
   "execution_count": 69,
   "metadata": {},
   "outputs": [
    {
     "data": {
      "text/html": [
       "<div>\n",
       "<style>\n",
       "    .dataframe thead tr:only-child th {\n",
       "        text-align: right;\n",
       "    }\n",
       "\n",
       "    .dataframe thead th {\n",
       "        text-align: left;\n",
       "    }\n",
       "\n",
       "    .dataframe tbody tr th {\n",
       "        vertical-align: top;\n",
       "    }\n",
       "</style>\n",
       "<table border=\"1\" class=\"dataframe\">\n",
       "  <thead>\n",
       "    <tr style=\"text-align: right;\">\n",
       "      <th></th>\n",
       "      <th>ensemble</th>\n",
       "      <th>aw0_mean</th>\n",
       "      <th>aw0_sdev</th>\n",
       "      <th>alfs</th>\n",
       "    </tr>\n",
       "  </thead>\n",
       "  <tbody>\n",
       "    <tr>\n",
       "      <th>0</th>\n",
       "      <td>l1648f211b580m013m065m838</td>\n",
       "      <td>0.8804</td>\n",
       "      <td>0.0003</td>\n",
       "      <td>0.58801</td>\n",
       "    </tr>\n",
       "    <tr>\n",
       "      <th>1</th>\n",
       "      <td>l2448f211b580m0064m0640m828</td>\n",
       "      <td>0.8804</td>\n",
       "      <td>0.0003</td>\n",
       "      <td>0.58801</td>\n",
       "    </tr>\n",
       "    <tr>\n",
       "      <th>2</th>\n",
       "      <td>l3248f211b580m00235m0647m831</td>\n",
       "      <td>0.8804</td>\n",
       "      <td>0.0003</td>\n",
       "      <td>0.58801</td>\n",
       "    </tr>\n",
       "    <tr>\n",
       "      <th>...</th>\n",
       "      <td>...</td>\n",
       "      <td>...</td>\n",
       "      <td>...</td>\n",
       "      <td>...</td>\n",
       "    </tr>\n",
       "    <tr>\n",
       "      <th>9</th>\n",
       "      <td>l4864f211b600m00184m0507m628</td>\n",
       "      <td>0.7036</td>\n",
       "      <td>0.0005</td>\n",
       "      <td>0.53796</td>\n",
       "    </tr>\n",
       "    <tr>\n",
       "      <th>10</th>\n",
       "      <td>l3296f211b630m0074m037m440</td>\n",
       "      <td>0.5105</td>\n",
       "      <td>0.0003</td>\n",
       "      <td>0.43356</td>\n",
       "    </tr>\n",
       "    <tr>\n",
       "      <th>11</th>\n",
       "      <td>l4896f211b630m00363m0363m430</td>\n",
       "      <td>0.5105</td>\n",
       "      <td>0.0003</td>\n",
       "      <td>0.43356</td>\n",
       "    </tr>\n",
       "  </tbody>\n",
       "</table>\n",
       "<p>12 rows × 4 columns</p>\n",
       "</div>"
      ],
      "text/plain": [
       "                        ensemble  aw0_mean  aw0_sdev     alfs\n",
       "0      l1648f211b580m013m065m838    0.8804    0.0003  0.58801\n",
       "1    l2448f211b580m0064m0640m828    0.8804    0.0003  0.58801\n",
       "2   l3248f211b580m00235m0647m831    0.8804    0.0003  0.58801\n",
       "..                           ...       ...       ...      ...\n",
       "9   l4864f211b600m00184m0507m628    0.7036    0.0005  0.53796\n",
       "10    l3296f211b630m0074m037m440    0.5105    0.0003  0.43356\n",
       "11  l4896f211b630m00363m0363m430    0.5105    0.0003  0.43356\n",
       "\n",
       "[12 rows x 4 columns]"
      ]
     },
     "execution_count": 69,
     "metadata": {},
     "output_type": "execute_result"
    }
   ],
   "source": [
    "# import HISQ parameters\n",
    "hqdf = pd.read_csv('./hisq_params.csv')\n",
    "hqdf"
   ]
  },
  {
   "cell_type": "markdown",
   "metadata": {},
   "source": [
    "### Format data for analysis"
   ]
  },
  {
   "cell_type": "code",
   "execution_count": 73,
   "metadata": {},
   "outputs": [],
   "source": [
    "gar_list = []\n",
    "epi_list = []\n",
    "aw0_list = []\n",
    "afs_list = []\n",
    "mpl_list = []\n",
    "for ens in switches['ensembles']:\n",
    "    gar = gadf.query(\"ensemble=='%s'\" %ens).sort_values(by='nbs')['ga'].as_matrix()\n",
    "    epi = gadf.query(\"ensemble=='%s'\" %ens).sort_values(by='nbs')['epi'].as_matrix()\n",
    "    mpl = gadf.query(\"ensemble=='%s' and nbs==0\" %ens)['mpil'].as_matrix()[0]\n",
    "    awm = hqdf.query(\"ensemble=='%s'\" %ens)['aw0_mean'].as_matrix()[0]\n",
    "    aws = hqdf.query(\"ensemble=='%s'\" %ens)['aw0_sdev'].as_matrix()[0]\n",
    "    afs = hqdf.query(\"ensemble=='%s'\" %ens)['alfs'].as_matrix()[0]\n",
    "    d = gv.dataset.avg_data({'gar': gar, 'epi':epi}, bstrap=True)\n",
    "    gar_list.append(d['gar'])\n",
    "    epi_list.append(d['epi'])\n",
    "    mpl_list.append(mpl)\n",
    "    aw0_list.append(gv.gvar(awm,aws))\n",
    "    afs_list.append(afs)\n",
    "data = {'y':{'gar': gar_list}, 'prior':{'epi': epi_list, 'aw0': aw0_list}, 'x':{'afs': afs_list}, 'mpl': mpl_list}"
   ]
  },
  {
   "cell_type": "markdown",
   "metadata": {},
   "source": [
    "### Chiral-continuum fit"
   ]
  },
  {
   "cell_type": "code",
   "execution_count": null,
   "metadata": {
    "collapsed": true
   },
   "outputs": [],
   "source": [
    "# Define fit function"
   ]
  },
  {
   "cell_type": "markdown",
   "metadata": {},
   "source": [
    "# Setup for Python environment\n",
    "### Download Anaconda and install \n",
    "Download [Anaconda](https://www.continuum.io/downloads) and follow installation instructions.\n",
    "\n",
    "### Create Python environment with Anaconda\n",
    "```bash\n",
    "conda create --name callat_ga python=3 conda\n",
    "source activate callat_ga\n",
    "pip install gvar\n",
    "pip install lsqfit```\n",
    "\n",
    "Key libraries from [gplepage GitHub](https://github.com/gplepage).\n",
    "* `gvar` version 8.0\n",
    "* `lsqfit` version 8.1\n",
    "\n",
    "Exit conda environment with\n",
    "```bash\n",
    "source deactivate\n",
    "```"
   ]
  },
  {
   "cell_type": "code",
   "execution_count": null,
   "metadata": {
    "collapsed": true
   },
   "outputs": [],
   "source": []
  }
 ],
 "metadata": {
  "kernelspec": {
   "display_name": "Python 3",
   "language": "python",
   "name": "python3"
  },
  "language_info": {
   "codemirror_mode": {
    "name": "ipython",
    "version": 3
   },
   "file_extension": ".py",
   "mimetype": "text/x-python",
   "name": "python",
   "nbconvert_exporter": "python",
   "pygments_lexer": "ipython3",
   "version": "3.6.1"
  }
 },
 "nbformat": 4,
 "nbformat_minor": 2
}
